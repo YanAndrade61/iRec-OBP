{
 "cells": [
  {
   "cell_type": "code",
   "execution_count": 5,
   "metadata": {},
   "outputs": [],
   "source": [
    "import pandas as pd\n",
    "import numpy as np\n",
    "from obp.dataset import SyntheticBanditDataset\n",
    "from sklearn.utils import check_random_state\n",
    "import random\n",
    "from tqdm import tqdm\n",
    "from obp.dataset.synthetic import * "
   ]
  },
  {
   "cell_type": "code",
   "execution_count": 53,
   "metadata": {},
   "outputs": [],
   "source": [
    "def select_context(n_rounds: int, n_actions: int, context_file_path: str):\n",
    "    \"\"\"\n",
    "    Seleciona o contexto dos usuários para as rodadas e ações especificadas.\n",
    "\n",
    "    Args:\n",
    "        n_rounds (int): O número de rodadas.\n",
    "        n_actions (int): O número de ações.\n",
    "        context_file_path (str): O caminho do arquivo de contexto.\n",
    "\n",
    "    Returns:\n",
    "        Um tuple contendo um array de IDs de contexto e um array de vetores de contexto para cada usuário.\n",
    "    \"\"\"\n",
    "    print(\"Selecionando contexto...\")\n",
    "\n",
    "    # Carrega o arquivo de contexto\n",
    "    df = pd.read_csv(context_file_path, delimiter='|', converters={'context': eval})\n",
    "    \n",
    "    # Cria uma lista de contexto para cada usuário com base na frequência de ocorrência\n",
    "    u_ids = [u for u, freq in zip(df['user_id'], df['freq']) for i in range(freq)]\n",
    "    \n",
    "    # Embaralha as listas de IDs\n",
    "    random.shuffle(u_ids)\n",
    "    u_contexts = [ df[df['user_id'] == u]['context'].values[0] for u in u_ids]\n",
    "    np.array(u_contexts).shape\n",
    "    print(\"Seleção de contexto concluída.\")\n",
    "\n",
    "    return np.array(u_ids), np.array(u_contexts)"
   ]
  },
  {
   "cell_type": "code",
   "execution_count": null,
   "metadata": {},
   "outputs": [],
   "source": []
  },
  {
   "cell_type": "code",
   "execution_count": 54,
   "metadata": {},
   "outputs": [
    {
     "name": "stdout",
     "output_type": "stream",
     "text": [
      "Selecionando contexto...\n",
      "Seleção de contexto concluída.\n"
     ]
    },
    {
     "data": {
      "text/plain": [
       "(100, 4)"
      ]
     },
     "execution_count": 54,
     "metadata": {},
     "output_type": "execute_result"
    }
   ],
   "source": [
    "users,context = select_context(100, 100, '/home/labpi/yan/iRec-OBP/examples/context/user.csv')\n",
    "context.shape"
   ]
  },
  {
   "cell_type": "code",
   "execution_count": 3,
   "metadata": {},
   "outputs": [],
   "source": [
    "def sample_action_context(action_dist: np.ndarray, users: np.ndarray, random_state: int = None) -> np.ndarray:\n",
    "    \"\"\"\n",
    "    Samples actions for each user according to a distribution.\n",
    "\n",
    "    Parameters:\n",
    "        action_dist (numpy.ndarray): distribuição de probabilidade das ações para cada usuário a serem selecionadas.\n",
    "        users (numpy.ndarray): Contem o indice dos usuarios a serem selecionados.\n",
    "        random_state (int, optional): Semente para o gerador de números aleatórios.\n",
    "\n",
    "    Returns:\n",
    "        numpy.ndarray: Contem as ações selecionadas para cada usuário.\n",
    "\n",
    "    \"\"\"\n",
    "    random_ = check_random_state(random_state)\n",
    "    n_actions, n_users = action_dist.shape\n",
    "    print('select action ', action_dist.shape)\n",
    "    chosen_actions = np.zeros(n_users, dtype=np.int)\n",
    "\n",
    "    cum_action_dist = np.cumsum(action_dist, axis=1)\n",
    "    uniform_rvs = random_.uniform(size=n_users)\n",
    "    print(cum_action_dist.shape)\n",
    "    for i in tqdm(range(n_users), desc=\"Selecting actions\"):\n",
    "        hist = set()\n",
    "        for _ in range(n_actions):\n",
    "            action = np.argmax(cum_action_dist[i] > uniform_rvs[i])\n",
    "            if action not in hist:\n",
    "                chosen_actions[i] = action\n",
    "                hist.add(action)\n",
    "                break\n",
    "            cum_action_dist[i][action] = -1"
   ]
  },
  {
   "cell_type": "code",
   "execution_count": 6,
   "metadata": {},
   "outputs": [],
   "source": [
    "dataset = SyntheticBanditDataset(\n",
    "    n_actions=100, # number of actions; |A|\n",
    "    dim_context=5, # number of dimensions of context vector\n",
    "    reward_function=logistic_reward_function, # mean reward function; q(x,a)\n",
    "    behavior_policy_function=linear_behavior_policy, # behavior policy; \\pi_b\n",
    "    random_state=12345,\n",
    ")"
   ]
  },
  {
   "cell_type": "code",
   "execution_count": 7,
   "metadata": {},
   "outputs": [],
   "source": [
    "training_bandit_data = dataset.obtain_batch_bandit_feedback(n_rounds=100)\n",
    "test_bandit_data = dataset.obtain_batch_bandit_feedback(n_rounds=100)"
   ]
  },
  {
   "cell_type": "code",
   "execution_count": 10,
   "metadata": {},
   "outputs": [
    {
     "data": {
      "text/plain": [
       "(100, 100, 1)"
      ]
     },
     "execution_count": 10,
     "metadata": {},
     "output_type": "execute_result"
    }
   ],
   "source": [
    "pi_b = training_bandit_data['pi_b']\n",
    "pi_b.shape"
   ]
  },
  {
   "cell_type": "code",
   "execution_count": 9,
   "metadata": {},
   "outputs": [
    {
     "data": {
      "text/plain": [
       "array([[[0.00984519],\n",
       "        [0.00677159],\n",
       "        [0.00500839],\n",
       "        ...,\n",
       "        [0.0106929 ],\n",
       "        [0.00531413],\n",
       "        [0.01092079]],\n",
       "\n",
       "       [[0.01128862],\n",
       "        [0.00557664],\n",
       "        [0.00454625],\n",
       "        ...,\n",
       "        [0.00850335],\n",
       "        [0.00839168],\n",
       "        [0.00866747]],\n",
       "\n",
       "       [[0.01237064],\n",
       "        [0.00450942],\n",
       "        [0.00511151],\n",
       "        ...,\n",
       "        [0.01166402],\n",
       "        [0.00963456],\n",
       "        [0.00900317]],\n",
       "\n",
       "       ...,\n",
       "\n",
       "       [[0.00720934],\n",
       "        [0.00641521],\n",
       "        [0.01171338],\n",
       "        ...,\n",
       "        [0.01533758],\n",
       "        [0.00899217],\n",
       "        [0.00854998]],\n",
       "\n",
       "       [[0.00765181],\n",
       "        [0.00702797],\n",
       "        [0.00710734],\n",
       "        ...,\n",
       "        [0.00904024],\n",
       "        [0.00636136],\n",
       "        [0.010292  ]],\n",
       "\n",
       "       [[0.00689777],\n",
       "        [0.0081101 ],\n",
       "        [0.00498613],\n",
       "        ...,\n",
       "        [0.00574977],\n",
       "        [0.00462273],\n",
       "        [0.00897257]]])"
      ]
     },
     "execution_count": 9,
     "metadata": {},
     "output_type": "execute_result"
    }
   ],
   "source": [
    "sample_action_context(pi_b, users: np.ndarray, random_state: int = None) "
   ]
  },
  {
   "cell_type": "code",
   "execution_count": null,
   "metadata": {},
   "outputs": [],
   "source": []
  }
 ],
 "metadata": {
  "kernelspec": {
   "display_name": "Python 3.10.7 ('.env': venv)",
   "language": "python",
   "name": "python3"
  },
  "language_info": {
   "codemirror_mode": {
    "name": "ipython",
    "version": 3
   },
   "file_extension": ".py",
   "mimetype": "text/x-python",
   "name": "python",
   "nbconvert_exporter": "python",
   "pygments_lexer": "ipython3",
   "version": "3.10.9"
  },
  "orig_nbformat": 4,
  "vscode": {
   "interpreter": {
    "hash": "30d554d81fdda50252ab72a7d0113746b57cc55af950bc3c20b2fcaa5b2b207d"
   }
  }
 },
 "nbformat": 4,
 "nbformat_minor": 2
}
