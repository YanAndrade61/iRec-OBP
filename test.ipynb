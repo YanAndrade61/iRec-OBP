{
 "cells": [
  {
   "cell_type": "code",
   "execution_count": null,
   "metadata": {},
   "outputs": [],
   "source": [
    "def select_context(n_rounds: int, n_actions: int, context_file_path: str):\n",
    "    \"\"\"\n",
    "    Seleciona o contexto dos usuários para as rodadas e ações especificadas.\n",
    "\n",
    "    Args:\n",
    "        n_rounds (int): O número de rodadas.\n",
    "        n_actions (int): O número de ações.\n",
    "        context_file_path (str): O caminho do arquivo de contexto.\n",
    "\n",
    "    Returns:\n",
    "        Um tuple contendo um array de IDs de contexto e um array de vetores de contexto para cada usuário.\n",
    "    \"\"\"\n",
    "    print(\"Selecionando contexto...\")\n",
    "\n",
    "    # Carrega o arquivo de contexto\n",
    "    df = pd.read_csv(context_file_path, delimiter='|', converters={'context': eval})\n",
    "    \n",
    "    # Cria uma lista de contexto para cada usuário com base na frequência de ocorrência\n",
    "    u_contexts = [list(context) for context, freq in zip(df['context'], df['freq']) for i in range(freq)]\n",
    "    \n",
    "    # Embaralha as listas de contexto e IDs\n",
    "    u_zipped = list(zip(df['user_id'], u_contexts))\n",
    "    random.shuffle(u_zipped)\n",
    "    u_ids, u_contexts = zip(*u_zipped)\n",
    "\n",
    "    print(\"Seleção de contexto concluída.\")\n",
    "\n",
    "    return np.array(u_ids), np.array(u_contexts)"
   ]
  },
  {
   "cell_type": "code",
   "execution_count": null,
   "metadata": {},
   "outputs": [],
   "source": [
    "def sample_action_context(action_dist: np.ndarray, users: np.ndarray, random_state: int = None) -> np.ndarray:\n",
    "    \"\"\"\n",
    "    Samples actions for each user according to a distribution.\n",
    "\n",
    "    Parameters:\n",
    "        action_dist (numpy.ndarray): distribuição de probabilidade das ações para cada usuário a serem selecionadas.\n",
    "        users (numpy.ndarray): Contem o indice dos usuarios a serem selecionados.\n",
    "        random_state (int, optional): Semente para o gerador de números aleatórios.\n",
    "\n",
    "    Returns:\n",
    "        numpy.ndarray: Contem as ações selecionadas para cada usuário.\n",
    "\n",
    "    \"\"\"\n",
    "    random_ = check_random_state(random_state)\n",
    "    n_actions, n_users = action_dist.shape\n",
    "    print('select action ', action_dist.shape)\n",
    "    chosen_actions = np.zeros(n_users, dtype=np.int)\n",
    "\n",
    "    cum_action_dist = np.cumsum(action_dist, axis=1)\n",
    "    uniform_rvs = random_.uniform(size=n_users)\n",
    "    print(cum_action_dist.shape)\n",
    "    for i in tqdm(range(n_users), desc=\"Selecting actions\"):\n",
    "        hist = set()\n",
    "        for _ in range(n_actions):\n",
    "            action = np.argmax(cum_action_dist[i] > uniform_rvs[i])\n",
    "            if action not in hist:\n",
    "                chosen_actions[i] = action\n",
    "                hist.add(action)\n",
    "                break\n",
    "            cum_action_dist[i][action] = -1"
   ]
  }
 ],
 "metadata": {
  "kernelspec": {
   "display_name": "Python 3.10.7 ('.env': venv)",
   "language": "python",
   "name": "python3"
  },
  "language_info": {
   "name": "python",
   "version": "3.10.7"
  },
  "orig_nbformat": 4,
  "vscode": {
   "interpreter": {
    "hash": "30d554d81fdda50252ab72a7d0113746b57cc55af950bc3c20b2fcaa5b2b207d"
   }
  }
 },
 "nbformat": 4,
 "nbformat_minor": 2
}
